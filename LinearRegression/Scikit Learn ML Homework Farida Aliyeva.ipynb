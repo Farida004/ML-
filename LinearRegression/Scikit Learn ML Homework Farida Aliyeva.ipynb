{
 "cells": [
  {
   "cell_type": "code",
   "execution_count": 7,
   "metadata": {},
   "outputs": [],
   "source": [
    "from sklearn import linear_model\n",
    "import pandas as pd\n",
    "from sklearn.model_selection import train_test_split\n",
    "from sklearn.linear_model import LinearRegression\n",
    "import numpy as np\n",
    "\n",
    "\n",
    "source = pd.read_csv(r'C:\\Users\\ASUS\\Desktop\\python\\turboaz.csv',\n",
    "                   usecols=['Yurush', 'Buraxilish ili', 'Qiymet'])\n",
    "\n",
    "price = source['Qiymet'].map(lambda x: float(\n",
    "    x.rstrip('$')) * 1.7 if '$' in x else float(x.rstrip('AZN')))\n",
    "distanceTravelled = source['Yurush'].map(\n",
    "    lambda x: x.rstrip('km').replace(' ', '')).map(int)\n",
    "year = source['Buraxilish ili']\n",
    "\n",
    "\n",
    "distance_old = distanceTravelled\n",
    "price_old = price\n",
    "year_old = year"
   ]
  },
  {
   "cell_type": "code",
   "execution_count": 17,
   "metadata": {},
   "outputs": [
    {
     "name": "stdout",
     "output_type": "stream",
     "text": [
      "-1.2085526584480263e-17\n",
      "[ 0.         -0.09334375  0.83086746]\n"
     ]
    }
   ],
   "source": [
    "\n",
    "distanceTravelled = (distanceTravelled -\n",
    "                     distanceTravelled.mean()) / distanceTravelled.std()\n",
    "year = (year - year.mean()) / year.std()\n",
    "price = (price - price.mean()) / price.std()\n",
    "\n",
    "m = len(distanceTravelled)\n",
    "x0 = np.ones(m)\n",
    "X = np.array([x0, distanceTravelled, year])\n",
    "X = X.transpose()\n",
    "y = price\n",
    "\n",
    "\n",
    "regressor = LinearRegression()# Linear Regression of scikit library\n",
    "regressor.fit(X, y)# Fit function adjusts weights according to data values \n",
    "\n",
    "print(regressor.intercept_)# expected mean value\n",
    "print(regressor.coef_)# same as a slope of the line of regression equation "
   ]
  },
  {
   "cell_type": "code",
   "execution_count": 20,
   "metadata": {},
   "outputs": [
    {
     "name": "stdout",
     "output_type": "stream",
     "text": [
      "[0.05157986]\n",
      "[15820.54127243]\n"
     ]
    }
   ],
   "source": [
    "# Testing 1\n",
    "\n",
    "distance_1 = 240000\n",
    "year_1 = 2000\n",
    "actual_price_1 = 11500\n",
    "\n",
    "\n",
    "distance_1 = (distance_1 - distance_old.mean()) / distance_old.std()\n",
    "year_1 = (year_1 - year_old.mean()) / year_old.std()\n",
    "\n",
    "new_value = (np.array([1, distance_1, year_1])).reshape(1, -1)\n",
    "\n",
    "y_predict = regressor.predict(new_value)\n",
    "print(y_predict)\n",
    "\n",
    "normal = (y_pred * price_old.std() + price_old.mean())\n",
    "\n",
    "print(normal)\n"
   ]
  },
  {
   "cell_type": "code",
   "execution_count": 22,
   "metadata": {},
   "outputs": [
    {
     "name": "stdout",
     "output_type": "stream",
     "text": [
      "[-0.70787281]\n",
      "[5453.69414861]\n"
     ]
    }
   ],
   "source": [
    "# Testing 2\n",
    "\n",
    "distance_2 = 415558\n",
    "year_2 = 1996\n",
    "actual_price_2 = 8800\n",
    "\n",
    "distance_2 = (distance_2 - distance_old.mean()) / distance_old.std()\n",
    "year_2 = (year_2 - year_old.mean()) / year_old.std()\n",
    "\n",
    "new_value_2 = (np.array([1, distance_2, year_2])).reshape(1, -1)\n",
    "\n",
    "y_pred_2 = regressor.predict(new_value_2)\n",
    "print(y_predict_2)\n",
    "\n",
    "normal_2 = (y_pred_2 * price_old.std() + price_old.mean())\n",
    "\n",
    "print(normal_2)"
   ]
  },
  {
   "cell_type": "code",
   "execution_count": null,
   "metadata": {},
   "outputs": [],
   "source": []
  }
 ],
 "metadata": {
  "kernelspec": {
   "display_name": "Python 3",
   "language": "python",
   "name": "python3"
  },
  "language_info": {
   "codemirror_mode": {
    "name": "ipython",
    "version": 3
   },
   "file_extension": ".py",
   "mimetype": "text/x-python",
   "name": "python",
   "nbconvert_exporter": "python",
   "pygments_lexer": "ipython3",
   "version": "3.7.6"
  }
 },
 "nbformat": 4,
 "nbformat_minor": 4
}
